{
  "nbformat": 4,
  "nbformat_minor": 0,
  "metadata": {
    "colab": {
      "name": "The python tutorial.ipynb",
      "version": "0.3.2",
      "provenance": [],
      "include_colab_link": true
    },
    "kernelspec": {
      "name": "python3",
      "display_name": "Python 3"
    }
  },
  "cells": [
    {
      "cell_type": "markdown",
      "metadata": {
        "id": "view-in-github",
        "colab_type": "text"
      },
      "source": [
        "[View in Colaboratory](https://colab.research.google.com/github/zhackay/python-exercises/blob/master/The_python_tutorial.ipynb)"
      ]
    },
    {
      "metadata": {
        "id": "eKrM3Nlo8hIZ",
        "colab_type": "text"
      },
      "cell_type": "markdown",
      "source": [
        "https://docs.python.org/3.6/tutorial/index.html\n",
        "\n",
        "For more information about the tool\n",
        "\n",
        "https://colab.research.google.com/notebooks/welcome.ipynb#scrollTo=9J7p406abzgl"
      ]
    },
    {
      "metadata": {
        "id": "MRCc7Zcz8vMj",
        "colab_type": "text"
      },
      "cell_type": "markdown",
      "source": [
        "# Built-in Types"
      ]
    },
    {
      "metadata": {
        "id": "Pb4OjG2cAYae",
        "colab_type": "text"
      },
      "cell_type": "markdown",
      "source": [
        "https://docs.python.org/3.6/library/stdtypes.html#built-in-types"
      ]
    },
    {
      "metadata": {
        "id": "IGNL-ah_8t7Q",
        "colab_type": "code",
        "colab": {}
      },
      "cell_type": "code",
      "source": [
        "\n",
        "# this is comments"
      ],
      "execution_count": 0,
      "outputs": []
    },
    {
      "metadata": {
        "id": "C5WjOzttY7BO",
        "colab_type": "code",
        "colab": {}
      },
      "cell_type": "code",
      "source": [
        "https://docs.python.org/3.6/tutorial/index.html"
      ],
      "execution_count": 0,
      "outputs": []
    },
    {
      "metadata": {
        "id": "xFrWPxRJ8-u7",
        "colab_type": "text"
      },
      "cell_type": "markdown",
      "source": [
        "#Calculation\n",
        "\n"
      ]
    },
    {
      "metadata": {
        "id": "j1RDkMMwY9MT",
        "colab_type": "text"
      },
      "cell_type": "markdown",
      "source": [
        "## Numbers\n",
        "\n",
        "* types \n",
        "  * int \n",
        "  * float\n",
        "  * Decimal\n",
        "  * Fraction\n",
        "\n",
        "* plus, minus: +, - \n",
        "* division\n",
        "  * / : \n",
        "  * //\n",
        "  * %\n",
        "* multiplication\n",
        "  * `*` \n",
        "* power\n",
        "  * `**`\n",
        "\n",
        "\n",
        "\n"
      ]
    },
    {
      "metadata": {
        "id": "2ElH7wCWY82w",
        "colab_type": "code",
        "colab": {
          "base_uri": "https://localhost:8080/",
          "height": 34
        },
        "outputId": "334538f5-0b9d-457b-f83f-48a6bb48cf58"
      },
      "cell_type": "code",
      "source": [
        "# division\n",
        "123/3"
      ],
      "execution_count": 2,
      "outputs": [
        {
          "output_type": "execute_result",
          "data": {
            "text/plain": [
              "41.0"
            ]
          },
          "metadata": {
            "tags": []
          },
          "execution_count": 2
        }
      ]
    },
    {
      "metadata": {
        "id": "b8PXcWre9g2o",
        "colab_type": "code",
        "colab": {}
      },
      "cell_type": "code",
      "source": [
        ""
      ],
      "execution_count": 0,
      "outputs": []
    }
  ]
}